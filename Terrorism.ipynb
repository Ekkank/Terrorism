{
 "cells": [
  {
   "cell_type": "code",
   "execution_count": 1,
   "metadata": {},
   "outputs": [],
   "source": [
    "import numpy as np\n",
    "import pandas as pd\n",
    "import matplotlib.pyplot as plt\n",
    "import seaborn as sns"
   ]
  },
  {
   "cell_type": "code",
   "execution_count": 2,
   "metadata": {},
   "outputs": [],
   "source": [
    "data=pd.read_csv('terrorism.csv',engine='python')"
   ]
  },
  {
   "cell_type": "code",
   "execution_count": 3,
   "metadata": {},
   "outputs": [
    {
     "data": {
      "text/html": [
       "<div>\n",
       "<style scoped>\n",
       "    .dataframe tbody tr th:only-of-type {\n",
       "        vertical-align: middle;\n",
       "    }\n",
       "\n",
       "    .dataframe tbody tr th {\n",
       "        vertical-align: top;\n",
       "    }\n",
       "\n",
       "    .dataframe thead th {\n",
       "        text-align: right;\n",
       "    }\n",
       "</style>\n",
       "<table border=\"1\" class=\"dataframe\">\n",
       "  <thead>\n",
       "    <tr style=\"text-align: right;\">\n",
       "      <th></th>\n",
       "      <th>eventid</th>\n",
       "      <th>iyear</th>\n",
       "      <th>imonth</th>\n",
       "      <th>iday</th>\n",
       "      <th>approxdate</th>\n",
       "      <th>extended</th>\n",
       "      <th>resolution</th>\n",
       "      <th>country</th>\n",
       "      <th>country_txt</th>\n",
       "      <th>region</th>\n",
       "      <th>...</th>\n",
       "      <th>addnotes</th>\n",
       "      <th>scite1</th>\n",
       "      <th>scite2</th>\n",
       "      <th>scite3</th>\n",
       "      <th>dbsource</th>\n",
       "      <th>INT_LOG</th>\n",
       "      <th>INT_IDEO</th>\n",
       "      <th>INT_MISC</th>\n",
       "      <th>INT_ANY</th>\n",
       "      <th>related</th>\n",
       "    </tr>\n",
       "  </thead>\n",
       "  <tbody>\n",
       "    <tr>\n",
       "      <th>0</th>\n",
       "      <td>197000000001</td>\n",
       "      <td>1970</td>\n",
       "      <td>7</td>\n",
       "      <td>2</td>\n",
       "      <td>NaN</td>\n",
       "      <td>0</td>\n",
       "      <td>NaN</td>\n",
       "      <td>58</td>\n",
       "      <td>Dominican Republic</td>\n",
       "      <td>2</td>\n",
       "      <td>...</td>\n",
       "      <td>NaN</td>\n",
       "      <td>NaN</td>\n",
       "      <td>NaN</td>\n",
       "      <td>NaN</td>\n",
       "      <td>PGIS</td>\n",
       "      <td>0</td>\n",
       "      <td>0</td>\n",
       "      <td>0</td>\n",
       "      <td>0</td>\n",
       "      <td>NaN</td>\n",
       "    </tr>\n",
       "    <tr>\n",
       "      <th>1</th>\n",
       "      <td>197000000002</td>\n",
       "      <td>1970</td>\n",
       "      <td>0</td>\n",
       "      <td>0</td>\n",
       "      <td>NaN</td>\n",
       "      <td>0</td>\n",
       "      <td>NaN</td>\n",
       "      <td>130</td>\n",
       "      <td>Mexico</td>\n",
       "      <td>1</td>\n",
       "      <td>...</td>\n",
       "      <td>NaN</td>\n",
       "      <td>NaN</td>\n",
       "      <td>NaN</td>\n",
       "      <td>NaN</td>\n",
       "      <td>PGIS</td>\n",
       "      <td>0</td>\n",
       "      <td>1</td>\n",
       "      <td>1</td>\n",
       "      <td>1</td>\n",
       "      <td>NaN</td>\n",
       "    </tr>\n",
       "    <tr>\n",
       "      <th>2</th>\n",
       "      <td>197001000001</td>\n",
       "      <td>1970</td>\n",
       "      <td>1</td>\n",
       "      <td>0</td>\n",
       "      <td>NaN</td>\n",
       "      <td>0</td>\n",
       "      <td>NaN</td>\n",
       "      <td>160</td>\n",
       "      <td>Philippines</td>\n",
       "      <td>5</td>\n",
       "      <td>...</td>\n",
       "      <td>NaN</td>\n",
       "      <td>NaN</td>\n",
       "      <td>NaN</td>\n",
       "      <td>NaN</td>\n",
       "      <td>PGIS</td>\n",
       "      <td>-9</td>\n",
       "      <td>-9</td>\n",
       "      <td>1</td>\n",
       "      <td>1</td>\n",
       "      <td>NaN</td>\n",
       "    </tr>\n",
       "    <tr>\n",
       "      <th>3</th>\n",
       "      <td>197001000002</td>\n",
       "      <td>1970</td>\n",
       "      <td>1</td>\n",
       "      <td>0</td>\n",
       "      <td>NaN</td>\n",
       "      <td>0</td>\n",
       "      <td>NaN</td>\n",
       "      <td>78</td>\n",
       "      <td>Greece</td>\n",
       "      <td>8</td>\n",
       "      <td>...</td>\n",
       "      <td>NaN</td>\n",
       "      <td>NaN</td>\n",
       "      <td>NaN</td>\n",
       "      <td>NaN</td>\n",
       "      <td>PGIS</td>\n",
       "      <td>-9</td>\n",
       "      <td>-9</td>\n",
       "      <td>1</td>\n",
       "      <td>1</td>\n",
       "      <td>NaN</td>\n",
       "    </tr>\n",
       "    <tr>\n",
       "      <th>4</th>\n",
       "      <td>197001000003</td>\n",
       "      <td>1970</td>\n",
       "      <td>1</td>\n",
       "      <td>0</td>\n",
       "      <td>NaN</td>\n",
       "      <td>0</td>\n",
       "      <td>NaN</td>\n",
       "      <td>101</td>\n",
       "      <td>Japan</td>\n",
       "      <td>4</td>\n",
       "      <td>...</td>\n",
       "      <td>NaN</td>\n",
       "      <td>NaN</td>\n",
       "      <td>NaN</td>\n",
       "      <td>NaN</td>\n",
       "      <td>PGIS</td>\n",
       "      <td>-9</td>\n",
       "      <td>-9</td>\n",
       "      <td>1</td>\n",
       "      <td>1</td>\n",
       "      <td>NaN</td>\n",
       "    </tr>\n",
       "  </tbody>\n",
       "</table>\n",
       "<p>5 rows × 135 columns</p>\n",
       "</div>"
      ],
      "text/plain": [
       "        eventid  iyear  imonth  iday approxdate  extended resolution  country  \\\n",
       "0  197000000001   1970       7     2        NaN         0        NaN       58   \n",
       "1  197000000002   1970       0     0        NaN         0        NaN      130   \n",
       "2  197001000001   1970       1     0        NaN         0        NaN      160   \n",
       "3  197001000002   1970       1     0        NaN         0        NaN       78   \n",
       "4  197001000003   1970       1     0        NaN         0        NaN      101   \n",
       "\n",
       "          country_txt  region  ... addnotes scite1 scite2  scite3  dbsource  \\\n",
       "0  Dominican Republic       2  ...      NaN    NaN    NaN     NaN      PGIS   \n",
       "1              Mexico       1  ...      NaN    NaN    NaN     NaN      PGIS   \n",
       "2         Philippines       5  ...      NaN    NaN    NaN     NaN      PGIS   \n",
       "3              Greece       8  ...      NaN    NaN    NaN     NaN      PGIS   \n",
       "4               Japan       4  ...      NaN    NaN    NaN     NaN      PGIS   \n",
       "\n",
       "   INT_LOG  INT_IDEO INT_MISC INT_ANY  related  \n",
       "0        0         0        0       0      NaN  \n",
       "1        0         1        1       1      NaN  \n",
       "2       -9        -9        1       1      NaN  \n",
       "3       -9        -9        1       1      NaN  \n",
       "4       -9        -9        1       1      NaN  \n",
       "\n",
       "[5 rows x 135 columns]"
      ]
     },
     "execution_count": 3,
     "metadata": {},
     "output_type": "execute_result"
    }
   ],
   "source": [
    "data.head()"
   ]
  },
  {
   "cell_type": "code",
   "execution_count": 4,
   "metadata": {},
   "outputs": [
    {
     "data": {
      "text/plain": [
       "eventid       False\n",
       "iyear         False\n",
       "imonth        False\n",
       "iday          False\n",
       "approxdate     True\n",
       "              ...  \n",
       "INT_LOG       False\n",
       "INT_IDEO      False\n",
       "INT_MISC      False\n",
       "INT_ANY       False\n",
       "related        True\n",
       "Length: 135, dtype: bool"
      ]
     },
     "execution_count": 4,
     "metadata": {},
     "output_type": "execute_result"
    }
   ],
   "source": [
    "((data.isnull().sum()/data.shape[0])*100) > 60"
   ]
  },
  {
   "cell_type": "code",
   "execution_count": 5,
   "metadata": {},
   "outputs": [
    {
     "data": {
      "text/html": [
       "<div>\n",
       "<style scoped>\n",
       "    .dataframe tbody tr th:only-of-type {\n",
       "        vertical-align: middle;\n",
       "    }\n",
       "\n",
       "    .dataframe tbody tr th {\n",
       "        vertical-align: top;\n",
       "    }\n",
       "\n",
       "    .dataframe thead th {\n",
       "        text-align: right;\n",
       "    }\n",
       "</style>\n",
       "<table border=\"1\" class=\"dataframe\">\n",
       "  <thead>\n",
       "    <tr style=\"text-align: right;\">\n",
       "      <th></th>\n",
       "      <th>0</th>\n",
       "    </tr>\n",
       "  </thead>\n",
       "  <tbody>\n",
       "    <tr>\n",
       "      <th>approxdate</th>\n",
       "      <td>94.914993</td>\n",
       "    </tr>\n",
       "    <tr>\n",
       "      <th>resolution</th>\n",
       "      <td>98.778145</td>\n",
       "    </tr>\n",
       "    <tr>\n",
       "      <th>provstate</th>\n",
       "      <td>0.231712</td>\n",
       "    </tr>\n",
       "    <tr>\n",
       "      <th>city</th>\n",
       "      <td>0.238867</td>\n",
       "    </tr>\n",
       "    <tr>\n",
       "      <th>latitude</th>\n",
       "      <td>2.507554</td>\n",
       "    </tr>\n",
       "    <tr>\n",
       "      <th>...</th>\n",
       "      <td>...</td>\n",
       "    </tr>\n",
       "    <tr>\n",
       "      <th>addnotes</th>\n",
       "      <td>84.430159</td>\n",
       "    </tr>\n",
       "    <tr>\n",
       "      <th>scite1</th>\n",
       "      <td>36.430533</td>\n",
       "    </tr>\n",
       "    <tr>\n",
       "      <th>scite2</th>\n",
       "      <td>57.657231</td>\n",
       "    </tr>\n",
       "    <tr>\n",
       "      <th>scite3</th>\n",
       "      <td>76.049447</td>\n",
       "    </tr>\n",
       "    <tr>\n",
       "      <th>related</th>\n",
       "      <td>86.219461</td>\n",
       "    </tr>\n",
       "  </tbody>\n",
       "</table>\n",
       "<p>106 rows × 1 columns</p>\n",
       "</div>"
      ],
      "text/plain": [
       "                    0\n",
       "approxdate  94.914993\n",
       "resolution  98.778145\n",
       "provstate    0.231712\n",
       "city         0.238867\n",
       "latitude     2.507554\n",
       "...               ...\n",
       "addnotes    84.430159\n",
       "scite1      36.430533\n",
       "scite2      57.657231\n",
       "scite3      76.049447\n",
       "related     86.219461\n",
       "\n",
       "[106 rows x 1 columns]"
      ]
     },
     "execution_count": 5,
     "metadata": {},
     "output_type": "execute_result"
    }
   ],
   "source": [
    "b = pd.DataFrame((data.isnull().sum()/data.shape[0])*100)\n",
    "b[b[0]>0]\n"
   ]
  },
  {
   "cell_type": "code",
   "execution_count": 6,
   "metadata": {},
   "outputs": [],
   "source": [
    "list1 =[]\n",
    "list2=[]\n",
    "a = 0\n",
    "for i in data.columns:\n",
    "    if b.loc[i,0] > 60:\n",
    "        a=a+1\n",
    "        list1.append(i)\n",
    "    else:\n",
    "        list2.append(i)\n",
    "#Assuming if there is a column with more than 60% of null values, drop that column"
   ]
  },
  {
   "cell_type": "code",
   "execution_count": 7,
   "metadata": {},
   "outputs": [
    {
     "data": {
      "text/plain": [
       "(75, 60, 135)"
      ]
     },
     "execution_count": 7,
     "metadata": {},
     "output_type": "execute_result"
    }
   ],
   "source": [
    "len(list1),len(list2),data.shape[1]\n",
    "#Out of 135 Columns, we are dropping 75 Columns Become of the presence of more than 60% of null values"
   ]
  },
  {
   "cell_type": "code",
   "execution_count": 8,
   "metadata": {},
   "outputs": [],
   "source": [
    "data.drop(columns=list1,inplace=True)"
   ]
  },
  {
   "cell_type": "code",
   "execution_count": 9,
   "metadata": {},
   "outputs": [
    {
     "data": {
      "text/plain": [
       "eventid                  0\n",
       "iyear                    0\n",
       "imonth                   0\n",
       "iday                     0\n",
       "extended                 0\n",
       "country                  0\n",
       "country_txt              0\n",
       "region                   0\n",
       "region_txt               0\n",
       "provstate              421\n",
       "city                   434\n",
       "latitude              4556\n",
       "longitude             4557\n",
       "specificity              6\n",
       "vicinity                 0\n",
       "summary              66129\n",
       "crit1                    0\n",
       "crit2                    0\n",
       "crit3                    0\n",
       "doubtterr                1\n",
       "multiple                 1\n",
       "success                  0\n",
       "suicide                  0\n",
       "attacktype1              0\n",
       "attacktype1_txt          0\n",
       "targtype1                0\n",
       "targtype1_txt            0\n",
       "targsubtype1         10373\n",
       "targsubtype1_txt     10373\n",
       "corp1                42550\n",
       "target1                636\n",
       "natlty1               1559\n",
       "natlty1_txt           1559\n",
       "gname                    0\n",
       "guncertain1            380\n",
       "individual               0\n",
       "nperps               71115\n",
       "nperpcap             69489\n",
       "claimed              66120\n",
       "weaptype1                0\n",
       "weaptype1_txt            0\n",
       "weapsubtype1         20768\n",
       "weapsubtype1_txt     20768\n",
       "weapdetail           67670\n",
       "nkill                10313\n",
       "nkillus              64446\n",
       "nkillter             66958\n",
       "nwound               16311\n",
       "nwoundus             64702\n",
       "nwoundte             69143\n",
       "property                 0\n",
       "ishostkid              178\n",
       "ransom              104310\n",
       "scite1               66191\n",
       "scite2              104758\n",
       "dbsource                 0\n",
       "INT_LOG                  0\n",
       "INT_IDEO                 0\n",
       "INT_MISC                 0\n",
       "INT_ANY                  0\n",
       "dtype: int64"
      ]
     },
     "execution_count": 9,
     "metadata": {},
     "output_type": "execute_result"
    }
   ],
   "source": [
    "data.isnull().sum()"
   ]
  },
  {
   "cell_type": "code",
   "execution_count": 10,
   "metadata": {},
   "outputs": [
    {
     "data": {
      "text/plain": [
       "(181691, 60)"
      ]
     },
     "execution_count": 10,
     "metadata": {},
     "output_type": "execute_result"
    }
   ],
   "source": [
    "#Revised Data Shape \n",
    "data.shape"
   ]
  },
  {
   "cell_type": "code",
   "execution_count": 11,
   "metadata": {},
   "outputs": [
    {
     "data": {
      "text/plain": [
       "0    1\n",
       "1    1\n",
       "2    1\n",
       "3    1\n",
       "4    1\n",
       "Name: success, dtype: int64"
      ]
     },
     "execution_count": 11,
     "metadata": {},
     "output_type": "execute_result"
    }
   ],
   "source": [
    "data['success'].head()"
   ]
  },
  {
   "cell_type": "code",
   "execution_count": 12,
   "metadata": {},
   "outputs": [
    {
     "data": {
      "text/plain": [
       "Index(['eventid', 'iyear', 'imonth', 'iday', 'extended', 'country',\n",
       "       'country_txt', 'region', 'region_txt', 'provstate', 'city', 'latitude',\n",
       "       'longitude', 'specificity', 'vicinity', 'summary', 'crit1', 'crit2',\n",
       "       'crit3', 'doubtterr', 'multiple', 'success', 'suicide', 'attacktype1',\n",
       "       'attacktype1_txt', 'targtype1', 'targtype1_txt', 'targsubtype1',\n",
       "       'targsubtype1_txt', 'corp1', 'target1', 'natlty1', 'natlty1_txt',\n",
       "       'gname', 'guncertain1', 'individual', 'nperps', 'nperpcap', 'claimed',\n",
       "       'weaptype1', 'weaptype1_txt', 'weapsubtype1', 'weapsubtype1_txt',\n",
       "       'weapdetail', 'nkill', 'nkillus', 'nkillter', 'nwound', 'nwoundus',\n",
       "       'nwoundte', 'property', 'ishostkid', 'ransom', 'scite1', 'scite2',\n",
       "       'dbsource', 'INT_LOG', 'INT_IDEO', 'INT_MISC', 'INT_ANY'],\n",
       "      dtype='object')"
      ]
     },
     "execution_count": 12,
     "metadata": {},
     "output_type": "execute_result"
    }
   ],
   "source": [
    "data.columns"
   ]
  },
  {
   "cell_type": "code",
   "execution_count": 13,
   "metadata": {},
   "outputs": [
    {
     "data": {
      "text/html": [
       "<div>\n",
       "<style scoped>\n",
       "    .dataframe tbody tr th:only-of-type {\n",
       "        vertical-align: middle;\n",
       "    }\n",
       "\n",
       "    .dataframe tbody tr th {\n",
       "        vertical-align: top;\n",
       "    }\n",
       "\n",
       "    .dataframe thead th {\n",
       "        text-align: right;\n",
       "    }\n",
       "</style>\n",
       "<table border=\"1\" class=\"dataframe\">\n",
       "  <thead>\n",
       "    <tr style=\"text-align: right;\">\n",
       "      <th></th>\n",
       "      <th>eventid</th>\n",
       "      <th>iyear</th>\n",
       "      <th>imonth</th>\n",
       "      <th>iday</th>\n",
       "      <th>extended</th>\n",
       "      <th>country</th>\n",
       "      <th>country_txt</th>\n",
       "      <th>region</th>\n",
       "      <th>region_txt</th>\n",
       "      <th>provstate</th>\n",
       "      <th>...</th>\n",
       "      <th>property</th>\n",
       "      <th>ishostkid</th>\n",
       "      <th>ransom</th>\n",
       "      <th>scite1</th>\n",
       "      <th>scite2</th>\n",
       "      <th>dbsource</th>\n",
       "      <th>INT_LOG</th>\n",
       "      <th>INT_IDEO</th>\n",
       "      <th>INT_MISC</th>\n",
       "      <th>INT_ANY</th>\n",
       "    </tr>\n",
       "  </thead>\n",
       "  <tbody>\n",
       "    <tr>\n",
       "      <th>0</th>\n",
       "      <td>197000000001</td>\n",
       "      <td>1970</td>\n",
       "      <td>7</td>\n",
       "      <td>2</td>\n",
       "      <td>0</td>\n",
       "      <td>58</td>\n",
       "      <td>Dominican Republic</td>\n",
       "      <td>2</td>\n",
       "      <td>Central America &amp; Caribbean</td>\n",
       "      <td>NaN</td>\n",
       "      <td>...</td>\n",
       "      <td>0</td>\n",
       "      <td>0.0</td>\n",
       "      <td>0.0</td>\n",
       "      <td>NaN</td>\n",
       "      <td>NaN</td>\n",
       "      <td>PGIS</td>\n",
       "      <td>0</td>\n",
       "      <td>0</td>\n",
       "      <td>0</td>\n",
       "      <td>0</td>\n",
       "    </tr>\n",
       "    <tr>\n",
       "      <th>1</th>\n",
       "      <td>197000000002</td>\n",
       "      <td>1970</td>\n",
       "      <td>0</td>\n",
       "      <td>0</td>\n",
       "      <td>0</td>\n",
       "      <td>130</td>\n",
       "      <td>Mexico</td>\n",
       "      <td>1</td>\n",
       "      <td>North America</td>\n",
       "      <td>Federal</td>\n",
       "      <td>...</td>\n",
       "      <td>0</td>\n",
       "      <td>1.0</td>\n",
       "      <td>1.0</td>\n",
       "      <td>NaN</td>\n",
       "      <td>NaN</td>\n",
       "      <td>PGIS</td>\n",
       "      <td>0</td>\n",
       "      <td>1</td>\n",
       "      <td>1</td>\n",
       "      <td>1</td>\n",
       "    </tr>\n",
       "    <tr>\n",
       "      <th>2</th>\n",
       "      <td>197001000001</td>\n",
       "      <td>1970</td>\n",
       "      <td>1</td>\n",
       "      <td>0</td>\n",
       "      <td>0</td>\n",
       "      <td>160</td>\n",
       "      <td>Philippines</td>\n",
       "      <td>5</td>\n",
       "      <td>Southeast Asia</td>\n",
       "      <td>Tarlac</td>\n",
       "      <td>...</td>\n",
       "      <td>0</td>\n",
       "      <td>0.0</td>\n",
       "      <td>0.0</td>\n",
       "      <td>NaN</td>\n",
       "      <td>NaN</td>\n",
       "      <td>PGIS</td>\n",
       "      <td>-9</td>\n",
       "      <td>-9</td>\n",
       "      <td>1</td>\n",
       "      <td>1</td>\n",
       "    </tr>\n",
       "    <tr>\n",
       "      <th>3</th>\n",
       "      <td>197001000002</td>\n",
       "      <td>1970</td>\n",
       "      <td>1</td>\n",
       "      <td>0</td>\n",
       "      <td>0</td>\n",
       "      <td>78</td>\n",
       "      <td>Greece</td>\n",
       "      <td>8</td>\n",
       "      <td>Western Europe</td>\n",
       "      <td>Attica</td>\n",
       "      <td>...</td>\n",
       "      <td>1</td>\n",
       "      <td>0.0</td>\n",
       "      <td>0.0</td>\n",
       "      <td>NaN</td>\n",
       "      <td>NaN</td>\n",
       "      <td>PGIS</td>\n",
       "      <td>-9</td>\n",
       "      <td>-9</td>\n",
       "      <td>1</td>\n",
       "      <td>1</td>\n",
       "    </tr>\n",
       "    <tr>\n",
       "      <th>4</th>\n",
       "      <td>197001000003</td>\n",
       "      <td>1970</td>\n",
       "      <td>1</td>\n",
       "      <td>0</td>\n",
       "      <td>0</td>\n",
       "      <td>101</td>\n",
       "      <td>Japan</td>\n",
       "      <td>4</td>\n",
       "      <td>East Asia</td>\n",
       "      <td>Fukouka</td>\n",
       "      <td>...</td>\n",
       "      <td>1</td>\n",
       "      <td>0.0</td>\n",
       "      <td>0.0</td>\n",
       "      <td>NaN</td>\n",
       "      <td>NaN</td>\n",
       "      <td>PGIS</td>\n",
       "      <td>-9</td>\n",
       "      <td>-9</td>\n",
       "      <td>1</td>\n",
       "      <td>1</td>\n",
       "    </tr>\n",
       "  </tbody>\n",
       "</table>\n",
       "<p>5 rows × 60 columns</p>\n",
       "</div>"
      ],
      "text/plain": [
       "        eventid  iyear  imonth  iday  extended  country         country_txt  \\\n",
       "0  197000000001   1970       7     2         0       58  Dominican Republic   \n",
       "1  197000000002   1970       0     0         0      130              Mexico   \n",
       "2  197001000001   1970       1     0         0      160         Philippines   \n",
       "3  197001000002   1970       1     0         0       78              Greece   \n",
       "4  197001000003   1970       1     0         0      101               Japan   \n",
       "\n",
       "   region                   region_txt provstate  ... property  ishostkid  \\\n",
       "0       2  Central America & Caribbean       NaN  ...        0        0.0   \n",
       "1       1                North America   Federal  ...        0        1.0   \n",
       "2       5               Southeast Asia    Tarlac  ...        0        0.0   \n",
       "3       8               Western Europe    Attica  ...        1        0.0   \n",
       "4       4                    East Asia   Fukouka  ...        1        0.0   \n",
       "\n",
       "   ransom  scite1  scite2 dbsource  INT_LOG  INT_IDEO  INT_MISC  INT_ANY  \n",
       "0     0.0     NaN     NaN     PGIS        0         0         0        0  \n",
       "1     1.0     NaN     NaN     PGIS        0         1         1        1  \n",
       "2     0.0     NaN     NaN     PGIS       -9        -9         1        1  \n",
       "3     0.0     NaN     NaN     PGIS       -9        -9         1        1  \n",
       "4     0.0     NaN     NaN     PGIS       -9        -9         1        1  \n",
       "\n",
       "[5 rows x 60 columns]"
      ]
     },
     "execution_count": 13,
     "metadata": {},
     "output_type": "execute_result"
    }
   ],
   "source": [
    "data.head()"
   ]
  },
  {
   "cell_type": "code",
   "execution_count": 14,
   "metadata": {},
   "outputs": [
    {
     "data": {
      "text/plain": [
       "Middle East & North Africa     50474\n",
       "South Asia                     44974\n",
       "South America                  18978\n",
       "Sub-Saharan Africa             17550\n",
       "Western Europe                 16639\n",
       "Southeast Asia                 12485\n",
       "Central America & Caribbean    10344\n",
       "Eastern Europe                  5144\n",
       "North America                   3456\n",
       "East Asia                        802\n",
       "Central Asia                     563\n",
       "Australasia & Oceania            282\n",
       "Name: region_txt, dtype: int64"
      ]
     },
     "execution_count": 14,
     "metadata": {},
     "output_type": "execute_result"
    }
   ],
   "source": [
    "data['region_txt'].value_counts()"
   ]
  },
  {
   "cell_type": "code",
   "execution_count": 15,
   "metadata": {},
   "outputs": [
    {
     "data": {
      "image/png": "[encoded data removed]",
      "text/plain": [
       "<Figure size 720x360 with 1 Axes>"
      ]
     },
     "metadata": {
      "needs_background": "light"
     },
     "output_type": "display_data"
    }
   ],
   "source": [
    "plt.figure(figsize=(10,5))\n",
    "sns.countplot(data['iyear'])\n",
    "plt.xticks(rotation=90)\n",
    "plt.xlabel('Years')\n",
    "plt.ylabel('Number of Terrorist Attacks')\n",
    "plt.show()\n",
    "#The terrorist attacks are on the rise and the maximum number of terror attacks were witnesed during the year 2014\n",
    "#Although, since then a decline can be witnessed."
   ]
  },
  {
   "cell_type": "code",
   "execution_count": 16,
   "metadata": {},
   "outputs": [
    {
     "data": {
      "text/plain": [
       "0.5909090909090909"
      ]
     },
     "execution_count": 16,
     "metadata": {},
     "output_type": "execute_result"
    }
   ],
   "source": [
    "13/22"
   ]
  },
  {
   "cell_type": "code",
   "execution_count": 17,
   "metadata": {},
   "outputs": [
    {
     "data": {
      "text/plain": [
       "41.3"
      ]
     },
     "execution_count": 17,
     "metadata": {},
     "output_type": "execute_result"
    }
   ],
   "source": [
    "0.590*70"
   ]
  },
  {
   "cell_type": "code",
   "execution_count": 18,
   "metadata": {},
   "outputs": [],
   "source": [
    "#Region Wise Terroist Attacks \n",
    "#Country Wise Terroist Attacks \n",
    "#Select top 5 countries and type of attacks comon\n",
    "#See other Visulaizations\n",
    "#killed vs wounded in type of attacks \n",
    "#statistical test on type of attack vs (killed, wounded), correl"
   ]
  },
  {
   "cell_type": "code",
   "execution_count": 19,
   "metadata": {},
   "outputs": [],
   "source": [
    "#Region Wise Terroist Attacks "
   ]
  },
  {
   "cell_type": "code",
   "execution_count": 20,
   "metadata": {},
   "outputs": [
    {
     "data": {
      "image/png": "[encoded data removed]",
      "text/plain": [
       "<Figure size 432x288 with 1 Axes>"
      ]
     },
     "metadata": {
      "needs_background": "light"
     },
     "output_type": "display_data"
    }
   ],
   "source": [
    "sns.countplot(data['region_txt'])\n",
    "plt.xticks(rotation=90)\n",
    "plt.show()\n",
    "#The Maximum number of attacks between 1970 and 2017 happened in 'Middle East & North Africa'\n",
    "#and 'South Asia'"
   ]
  },
  {
   "cell_type": "code",
   "execution_count": 21,
   "metadata": {},
   "outputs": [
    {
     "data": {
      "image/png": "[encoded data removed]",
      "text/plain": [
       "<Figure size 432x288 with 1 Axes>"
      ]
     },
     "metadata": {
      "needs_background": "light"
     },
     "output_type": "display_data"
    }
   ],
   "source": [
    "#Where were the most recent attacks?\n",
    "sns.countplot(data['region_txt'][(data['iyear']>=2010)])\n",
    "plt.xticks(rotation=90)\n",
    "plt.show()\n",
    "# We analysed attacks after the year 2010, and our data shows us the same result as before. \n",
    "# That is most of the recent attacks have been common in 'South Asia' and ''Middle East & North Africa'\n"
   ]
  },
  {
   "cell_type": "code",
   "execution_count": 22,
   "metadata": {},
   "outputs": [
    {
     "data": {
      "image/png": "[encoded data removed]",
      "text/plain": [
       "<Figure size 432x288 with 1 Axes>"
      ]
     },
     "metadata": {
      "needs_background": "light"
     },
     "output_type": "display_data"
    }
   ],
   "source": [
    "#Now, let's also see the variation in attacks before 2010\n",
    "sns.countplot(data['region_txt'][(data['iyear']<=2010)])\n",
    "plt.xticks(rotation=90)\n",
    "plt.show()\n",
    "#We see that terrorism was more active in other regions also like 'Central America & Caribbean',\n",
    "#'Western Europe','Soith America' and also, 'South Asia' and ''Middle East & North Africa'"
   ]
  },
  {
   "cell_type": "code",
   "execution_count": 23,
   "metadata": {},
   "outputs": [
    {
     "data": {
      "image/png": "[encoded data removed]",
      "text/plain": [
       "<Figure size 432x288 with 1 Axes>"
      ]
     },
     "metadata": {
      "needs_background": "light"
     },
     "output_type": "display_data"
    }
   ],
   "source": [
    "#We want to check whether the terrosist attacks increased in the years after 2010 in \n",
    "#'South Asia' and ''Middle East & North Africa'\n",
    "sns.distplot(data['iyear'][data['region_txt']=='South Asia'])\n",
    "plt.show()\n",
    "#This is negatively-skewed distribution.  "
   ]
  },
  {
   "cell_type": "code",
   "execution_count": 24,
   "metadata": {},
   "outputs": [
    {
     "data": {
      "text/plain": [
       "(977.695652173913, 1382.4752337675625)"
      ]
     },
     "execution_count": 24,
     "metadata": {},
     "output_type": "execute_result"
    }
   ],
   "source": [
    "#Let's try to find the statistical proof of this using one-sample t-test. \n",
    "#Mean of the number of attacks in the region South Asia\n",
    "pm= data['iyear'][data['region_txt']=='South Asia'].value_counts().mean() #Population Mean\n",
    "ps= data['iyear'][data['region_txt']=='South Asia'].value_counts().std() #Population Mean\n",
    "pm,ps"
   ]
  },
  {
   "cell_type": "code",
   "execution_count": 25,
   "metadata": {},
   "outputs": [
    {
     "data": {
      "text/plain": [
       "(3886.4285714285716, 964.6724585997842)"
      ]
     },
     "execution_count": 25,
     "metadata": {},
     "output_type": "execute_result"
    }
   ],
   "source": [
    "#Mean of the number of attacks after 2010 in the region of South Asia\n",
    "sm= data['iyear'][data['iyear']>2010][data['region_txt']=='South Asia'].value_counts().mean()#Sample Mean\n",
    "ss= data['iyear'][data['iyear']>2010][data['region_txt']=='South Asia'].value_counts().std() #Sample STD\n",
    "sm,ss"
   ]
  },
  {
   "cell_type": "code",
   "execution_count": 26,
   "metadata": {},
   "outputs": [],
   "source": [
    "import scipy.stats as stats"
   ]
  },
  {
   "cell_type": "code",
   "execution_count": 27,
   "metadata": {},
   "outputs": [
    {
     "name": "stdout",
     "output_type": "stream",
     "text": [
      "Z-stat value:  -2.104003636526416\n",
      "Z-critical value:  -1.6448536269514722\n",
      "We fail to accept the null hypothesis which also means that the terrorist attacks in South Asia after 2010 have increased\n"
     ]
    }
   ],
   "source": [
    "#We know the population Mean and Standard Deviation of the number of attacks in South Asia,\n",
    "#Let's find out whether the sample mean(attacks after 2010) have increased or not using One-Sample T-test\n",
    "#This will be a two-tail test\n",
    "#Ho: 3886.42 = PM\n",
    "#Ha: 3886.42 != PM\n",
    "z_stat=(pm-sm)/ps\n",
    "z_crit= stats.norm.isf(0.95)\n",
    "print('Z-stat value: ',z_stat)\n",
    "print('Z-critical value: ',z_crit) #Using the significane value of 95%\n",
    "if z_stat<z_crit:\n",
    "    print('We fail to accept the null hypothesis which also means that the terrorist attacks in South Asia after 2010 have increased')\n",
    "else:\n",
    "    print('We accept the null hypothesis which also means that attacks in South Asia have have not changed')\n",
    "#We use the t-critical value\n",
    "#How to perform the two tailed sample test in this case\n",
    "#Doubt"
   ]
  },
  {
   "cell_type": "code",
   "execution_count": null,
   "metadata": {},
   "outputs": [],
   "source": []
  },
  {
   "cell_type": "code",
   "execution_count": 28,
   "metadata": {},
   "outputs": [
    {
     "data": {
      "image/png": "[encoded data removed]",
      "text/plain": [
       "<Figure size 432x288 with 1 Axes>"
      ]
     },
     "metadata": {
      "needs_background": "light"
     },
     "output_type": "display_data"
    }
   ],
   "source": [
    "#Since we have found two regions which have had the most number of terroist attacks \n",
    "#Let's analyse in which countries were these attacks the most?\n",
    "data[(data['region_txt']=='South Asia')|(data['region_txt']=='Middle East & North Africa')]['country_txt'].value_counts().head(5).plot(kind='bar')\n",
    "plt.show()\n",
    "#While looking at both of these regions,\n",
    "#The most number of attacks were maximium in the following regions. "
   ]
  },
  {
   "cell_type": "code",
   "execution_count": 29,
   "metadata": {},
   "outputs": [
    {
     "data": {
      "image/png": "[encoded data removed]",
      "text/plain": [
       "<Figure size 432x288 with 1 Axes>"
      ]
     },
     "metadata": {
      "needs_background": "light"
     },
     "output_type": "display_data"
    }
   ],
   "source": [
    "#If we looks at the regions seperately, then:\n",
    "#For South Asia\n",
    "data[(data['region_txt']=='South Asia')]['country_txt'].value_counts().head(5).plot(kind='bar')\n",
    "plt.show()"
   ]
  },
  {
   "cell_type": "code",
   "execution_count": 30,
   "metadata": {},
   "outputs": [
    {
     "data": {
      "image/png": "[encoded data removed]",
      "text/plain": [
       "<Figure size 432x288 with 1 Axes>"
      ]
     },
     "metadata": {
      "needs_background": "light"
     },
     "output_type": "display_data"
    }
   ],
   "source": [
    "#For Middle East & North Africa\n",
    "data[(data['region_txt']=='Middle East & North Africa')]['country_txt'].value_counts().head(5).plot(kind='bar')\n",
    "plt.show()\n",
    "#So, we conclude that Iraq, followed by Pakistan, Afghanistan, India had the maximum terorrist attacks."
   ]
  },
  {
   "cell_type": "code",
   "execution_count": 31,
   "metadata": {},
   "outputs": [
    {
     "data": {
      "text/plain": [
       "Index(['eventid', 'iyear', 'imonth', 'iday', 'extended', 'country',\n",
       "       'country_txt', 'region', 'region_txt', 'provstate', 'city', 'latitude',\n",
       "       'longitude', 'specificity', 'vicinity', 'summary', 'crit1', 'crit2',\n",
       "       'crit3', 'doubtterr', 'multiple', 'success', 'suicide', 'attacktype1',\n",
       "       'attacktype1_txt', 'targtype1', 'targtype1_txt', 'targsubtype1',\n",
       "       'targsubtype1_txt', 'corp1', 'target1', 'natlty1', 'natlty1_txt',\n",
       "       'gname', 'guncertain1', 'individual', 'nperps', 'nperpcap', 'claimed',\n",
       "       'weaptype1', 'weaptype1_txt', 'weapsubtype1', 'weapsubtype1_txt',\n",
       "       'weapdetail', 'nkill', 'nkillus', 'nkillter', 'nwound', 'nwoundus',\n",
       "       'nwoundte', 'property', 'ishostkid', 'ransom', 'scite1', 'scite2',\n",
       "       'dbsource', 'INT_LOG', 'INT_IDEO', 'INT_MISC', 'INT_ANY'],\n",
       "      dtype='object')"
      ]
     },
     "execution_count": 31,
     "metadata": {},
     "output_type": "execute_result"
    }
   ],
   "source": [
    "data.columns"
   ]
  },
  {
   "cell_type": "code",
   "execution_count": 32,
   "metadata": {},
   "outputs": [
    {
     "data": {
      "text/plain": [
       "Bombing/Explosion                      88255\n",
       "Armed Assault                          42669\n",
       "Assassination                          19312\n",
       "Hostage Taking (Kidnapping)            11158\n",
       "Facility/Infrastructure Attack         10356\n",
       "Unknown                                 7276\n",
       "Unarmed Assault                         1015\n",
       "Hostage Taking (Barricade Incident)      991\n",
       "Hijacking                                659\n",
       "Name: attacktype1_txt, dtype: int64"
      ]
     },
     "execution_count": 32,
     "metadata": {},
     "output_type": "execute_result"
    }
   ],
   "source": [
    "data['attacktype1_txt'].value_counts()"
   ]
  },
  {
   "cell_type": "code",
   "execution_count": 33,
   "metadata": {},
   "outputs": [
    {
     "data": {
      "text/html": [
       "<div>\n",
       "<style scoped>\n",
       "    .dataframe tbody tr th:only-of-type {\n",
       "        vertical-align: middle;\n",
       "    }\n",
       "\n",
       "    .dataframe tbody tr th {\n",
       "        vertical-align: top;\n",
       "    }\n",
       "\n",
       "    .dataframe thead th {\n",
       "        text-align: right;\n",
       "    }\n",
       "</style>\n",
       "<table border=\"1\" class=\"dataframe\">\n",
       "  <thead>\n",
       "    <tr style=\"text-align: right;\">\n",
       "      <th>country_txt</th>\n",
       "      <th>Afghanistan</th>\n",
       "      <th>Algeria</th>\n",
       "      <th>Bahrain</th>\n",
       "      <th>Bangladesh</th>\n",
       "      <th>Bhutan</th>\n",
       "      <th>Egypt</th>\n",
       "      <th>India</th>\n",
       "      <th>International</th>\n",
       "      <th>Iran</th>\n",
       "      <th>Iraq</th>\n",
       "      <th>...</th>\n",
       "      <th>Saudi Arabia</th>\n",
       "      <th>South Yemen</th>\n",
       "      <th>Sri Lanka</th>\n",
       "      <th>Syria</th>\n",
       "      <th>Tunisia</th>\n",
       "      <th>Turkey</th>\n",
       "      <th>United Arab Emirates</th>\n",
       "      <th>West Bank and Gaza Strip</th>\n",
       "      <th>Western Sahara</th>\n",
       "      <th>Yemen</th>\n",
       "    </tr>\n",
       "    <tr>\n",
       "      <th>attacktype1_txt</th>\n",
       "      <th></th>\n",
       "      <th></th>\n",
       "      <th></th>\n",
       "      <th></th>\n",
       "      <th></th>\n",
       "      <th></th>\n",
       "      <th></th>\n",
       "      <th></th>\n",
       "      <th></th>\n",
       "      <th></th>\n",
       "      <th></th>\n",
       "      <th></th>\n",
       "      <th></th>\n",
       "      <th></th>\n",
       "      <th></th>\n",
       "      <th></th>\n",
       "      <th></th>\n",
       "      <th></th>\n",
       "      <th></th>\n",
       "      <th></th>\n",
       "      <th></th>\n",
       "    </tr>\n",
       "  </thead>\n",
       "  <tbody>\n",
       "    <tr>\n",
       "      <th>Armed Assault</th>\n",
       "      <td>2877</td>\n",
       "      <td>913</td>\n",
       "      <td>37</td>\n",
       "      <td>292</td>\n",
       "      <td>0</td>\n",
       "      <td>790</td>\n",
       "      <td>3184</td>\n",
       "      <td>0</td>\n",
       "      <td>106</td>\n",
       "      <td>3155</td>\n",
       "      <td>...</td>\n",
       "      <td>95</td>\n",
       "      <td>0</td>\n",
       "      <td>998</td>\n",
       "      <td>199</td>\n",
       "      <td>39</td>\n",
       "      <td>1289</td>\n",
       "      <td>2</td>\n",
       "      <td>889</td>\n",
       "      <td>1</td>\n",
       "      <td>673</td>\n",
       "    </tr>\n",
       "    <tr>\n",
       "      <th>Assassination</th>\n",
       "      <td>954</td>\n",
       "      <td>431</td>\n",
       "      <td>3</td>\n",
       "      <td>164</td>\n",
       "      <td>0</td>\n",
       "      <td>249</td>\n",
       "      <td>1229</td>\n",
       "      <td>0</td>\n",
       "      <td>127</td>\n",
       "      <td>1287</td>\n",
       "      <td>...</td>\n",
       "      <td>8</td>\n",
       "      <td>0</td>\n",
       "      <td>438</td>\n",
       "      <td>94</td>\n",
       "      <td>8</td>\n",
       "      <td>437</td>\n",
       "      <td>5</td>\n",
       "      <td>332</td>\n",
       "      <td>0</td>\n",
       "      <td>434</td>\n",
       "    </tr>\n",
       "    <tr>\n",
       "      <th>Bombing/Explosion</th>\n",
       "      <td>6245</td>\n",
       "      <td>1088</td>\n",
       "      <td>123</td>\n",
       "      <td>791</td>\n",
       "      <td>5</td>\n",
       "      <td>1184</td>\n",
       "      <td>4825</td>\n",
       "      <td>1</td>\n",
       "      <td>347</td>\n",
       "      <td>18286</td>\n",
       "      <td>...</td>\n",
       "      <td>236</td>\n",
       "      <td>1</td>\n",
       "      <td>1151</td>\n",
       "      <td>1489</td>\n",
       "      <td>42</td>\n",
       "      <td>1957</td>\n",
       "      <td>12</td>\n",
       "      <td>653</td>\n",
       "      <td>2</td>\n",
       "      <td>1372</td>\n",
       "    </tr>\n",
       "    <tr>\n",
       "      <th>Facility/Infrastructure Attack</th>\n",
       "      <td>355</td>\n",
       "      <td>53</td>\n",
       "      <td>38</td>\n",
       "      <td>236</td>\n",
       "      <td>0</td>\n",
       "      <td>76</td>\n",
       "      <td>996</td>\n",
       "      <td>0</td>\n",
       "      <td>36</td>\n",
       "      <td>154</td>\n",
       "      <td>...</td>\n",
       "      <td>9</td>\n",
       "      <td>0</td>\n",
       "      <td>155</td>\n",
       "      <td>19</td>\n",
       "      <td>7</td>\n",
       "      <td>279</td>\n",
       "      <td>0</td>\n",
       "      <td>135</td>\n",
       "      <td>1</td>\n",
       "      <td>99</td>\n",
       "    </tr>\n",
       "    <tr>\n",
       "      <th>Hijacking</th>\n",
       "      <td>16</td>\n",
       "      <td>9</td>\n",
       "      <td>0</td>\n",
       "      <td>2</td>\n",
       "      <td>0</td>\n",
       "      <td>14</td>\n",
       "      <td>43</td>\n",
       "      <td>0</td>\n",
       "      <td>9</td>\n",
       "      <td>13</td>\n",
       "      <td>...</td>\n",
       "      <td>7</td>\n",
       "      <td>1</td>\n",
       "      <td>12</td>\n",
       "      <td>3</td>\n",
       "      <td>1</td>\n",
       "      <td>13</td>\n",
       "      <td>2</td>\n",
       "      <td>1</td>\n",
       "      <td>0</td>\n",
       "      <td>16</td>\n",
       "    </tr>\n",
       "    <tr>\n",
       "      <th>Hostage Taking (Barricade Incident)</th>\n",
       "      <td>27</td>\n",
       "      <td>4</td>\n",
       "      <td>1</td>\n",
       "      <td>7</td>\n",
       "      <td>0</td>\n",
       "      <td>5</td>\n",
       "      <td>44</td>\n",
       "      <td>0</td>\n",
       "      <td>4</td>\n",
       "      <td>24</td>\n",
       "      <td>...</td>\n",
       "      <td>1</td>\n",
       "      <td>0</td>\n",
       "      <td>4</td>\n",
       "      <td>5</td>\n",
       "      <td>1</td>\n",
       "      <td>13</td>\n",
       "      <td>0</td>\n",
       "      <td>3</td>\n",
       "      <td>0</td>\n",
       "      <td>14</td>\n",
       "    </tr>\n",
       "    <tr>\n",
       "      <th>Hostage Taking (Kidnapping)</th>\n",
       "      <td>1011</td>\n",
       "      <td>97</td>\n",
       "      <td>0</td>\n",
       "      <td>51</td>\n",
       "      <td>1</td>\n",
       "      <td>90</td>\n",
       "      <td>1184</td>\n",
       "      <td>0</td>\n",
       "      <td>20</td>\n",
       "      <td>946</td>\n",
       "      <td>...</td>\n",
       "      <td>6</td>\n",
       "      <td>0</td>\n",
       "      <td>94</td>\n",
       "      <td>246</td>\n",
       "      <td>6</td>\n",
       "      <td>158</td>\n",
       "      <td>1</td>\n",
       "      <td>80</td>\n",
       "      <td>1</td>\n",
       "      <td>382</td>\n",
       "    </tr>\n",
       "    <tr>\n",
       "      <th>Unarmed Assault</th>\n",
       "      <td>73</td>\n",
       "      <td>1</td>\n",
       "      <td>2</td>\n",
       "      <td>12</td>\n",
       "      <td>0</td>\n",
       "      <td>2</td>\n",
       "      <td>143</td>\n",
       "      <td>0</td>\n",
       "      <td>1</td>\n",
       "      <td>6</td>\n",
       "      <td>...</td>\n",
       "      <td>0</td>\n",
       "      <td>0</td>\n",
       "      <td>9</td>\n",
       "      <td>2</td>\n",
       "      <td>0</td>\n",
       "      <td>10</td>\n",
       "      <td>0</td>\n",
       "      <td>102</td>\n",
       "      <td>0</td>\n",
       "      <td>4</td>\n",
       "    </tr>\n",
       "    <tr>\n",
       "      <th>Unknown</th>\n",
       "      <td>1173</td>\n",
       "      <td>147</td>\n",
       "      <td>3</td>\n",
       "      <td>93</td>\n",
       "      <td>0</td>\n",
       "      <td>69</td>\n",
       "      <td>312</td>\n",
       "      <td>0</td>\n",
       "      <td>34</td>\n",
       "      <td>765</td>\n",
       "      <td>...</td>\n",
       "      <td>9</td>\n",
       "      <td>0</td>\n",
       "      <td>161</td>\n",
       "      <td>144</td>\n",
       "      <td>5</td>\n",
       "      <td>136</td>\n",
       "      <td>0</td>\n",
       "      <td>32</td>\n",
       "      <td>0</td>\n",
       "      <td>353</td>\n",
       "    </tr>\n",
       "  </tbody>\n",
       "</table>\n",
       "<p>9 rows × 32 columns</p>\n",
       "</div>"
      ],
      "text/plain": [
       "country_txt                          Afghanistan  Algeria  Bahrain  \\\n",
       "attacktype1_txt                                                      \n",
       "Armed Assault                               2877      913       37   \n",
       "Assassination                                954      431        3   \n",
       "Bombing/Explosion                           6245     1088      123   \n",
       "Facility/Infrastructure Attack               355       53       38   \n",
       "Hijacking                                     16        9        0   \n",
       "Hostage Taking (Barricade Incident)           27        4        1   \n",
       "Hostage Taking (Kidnapping)                 1011       97        0   \n",
       "Unarmed Assault                               73        1        2   \n",
       "Unknown                                     1173      147        3   \n",
       "\n",
       "country_txt                          Bangladesh  Bhutan  Egypt  India  \\\n",
       "attacktype1_txt                                                         \n",
       "Armed Assault                               292       0    790   3184   \n",
       "Assassination                               164       0    249   1229   \n",
       "Bombing/Explosion                           791       5   1184   4825   \n",
       "Facility/Infrastructure Attack              236       0     76    996   \n",
       "Hijacking                                     2       0     14     43   \n",
       "Hostage Taking (Barricade Incident)           7       0      5     44   \n",
       "Hostage Taking (Kidnapping)                  51       1     90   1184   \n",
       "Unarmed Assault                              12       0      2    143   \n",
       "Unknown                                      93       0     69    312   \n",
       "\n",
       "country_txt                          International  Iran   Iraq  ...  \\\n",
       "attacktype1_txt                                                  ...   \n",
       "Armed Assault                                    0   106   3155  ...   \n",
       "Assassination                                    0   127   1287  ...   \n",
       "Bombing/Explosion                                1   347  18286  ...   \n",
       "Facility/Infrastructure Attack                   0    36    154  ...   \n",
       "Hijacking                                        0     9     13  ...   \n",
       "Hostage Taking (Barricade Incident)              0     4     24  ...   \n",
       "Hostage Taking (Kidnapping)                      0    20    946  ...   \n",
       "Unarmed Assault                                  0     1      6  ...   \n",
       "Unknown                                          0    34    765  ...   \n",
       "\n",
       "country_txt                          Saudi Arabia  South Yemen  Sri Lanka  \\\n",
       "attacktype1_txt                                                             \n",
       "Armed Assault                                  95            0        998   \n",
       "Assassination                                   8            0        438   \n",
       "Bombing/Explosion                             236            1       1151   \n",
       "Facility/Infrastructure Attack                  9            0        155   \n",
       "Hijacking                                       7            1         12   \n",
       "Hostage Taking (Barricade Incident)             1            0          4   \n",
       "Hostage Taking (Kidnapping)                     6            0         94   \n",
       "Unarmed Assault                                 0            0          9   \n",
       "Unknown                                         9            0        161   \n",
       "\n",
       "country_txt                          Syria  Tunisia  Turkey  \\\n",
       "attacktype1_txt                                               \n",
       "Armed Assault                          199       39    1289   \n",
       "Assassination                           94        8     437   \n",
       "Bombing/Explosion                     1489       42    1957   \n",
       "Facility/Infrastructure Attack          19        7     279   \n",
       "Hijacking                                3        1      13   \n",
       "Hostage Taking (Barricade Incident)      5        1      13   \n",
       "Hostage Taking (Kidnapping)            246        6     158   \n",
       "Unarmed Assault                          2        0      10   \n",
       "Unknown                                144        5     136   \n",
       "\n",
       "country_txt                          United Arab Emirates  \\\n",
       "attacktype1_txt                                             \n",
       "Armed Assault                                           2   \n",
       "Assassination                                           5   \n",
       "Bombing/Explosion                                      12   \n",
       "Facility/Infrastructure Attack                          0   \n",
       "Hijacking                                               2   \n",
       "Hostage Taking (Barricade Incident)                     0   \n",
       "Hostage Taking (Kidnapping)                             1   \n",
       "Unarmed Assault                                         0   \n",
       "Unknown                                                 0   \n",
       "\n",
       "country_txt                          West Bank and Gaza Strip  Western Sahara  \\\n",
       "attacktype1_txt                                                                 \n",
       "Armed Assault                                             889               1   \n",
       "Assassination                                             332               0   \n",
       "Bombing/Explosion                                         653               2   \n",
       "Facility/Infrastructure Attack                            135               1   \n",
       "Hijacking                                                   1               0   \n",
       "Hostage Taking (Barricade Incident)                         3               0   \n",
       "Hostage Taking (Kidnapping)                                80               1   \n",
       "Unarmed Assault                                           102               0   \n",
       "Unknown                                                    32               0   \n",
       "\n",
       "country_txt                          Yemen  \n",
       "attacktype1_txt                             \n",
       "Armed Assault                          673  \n",
       "Assassination                          434  \n",
       "Bombing/Explosion                     1372  \n",
       "Facility/Infrastructure Attack          99  \n",
       "Hijacking                               16  \n",
       "Hostage Taking (Barricade Incident)     14  \n",
       "Hostage Taking (Kidnapping)            382  \n",
       "Unarmed Assault                          4  \n",
       "Unknown                                353  \n",
       "\n",
       "[9 rows x 32 columns]"
      ]
     },
     "execution_count": 33,
     "metadata": {},
     "output_type": "execute_result"
    }
   ],
   "source": [
    "ca= pd.crosstab(data['attacktype1_txt'],data[(data['region_txt']=='South Asia')|(data['region_txt']=='Middle East & North Africa')]['country_txt'])\n",
    "ca"
   ]
  },
  {
   "cell_type": "code",
   "execution_count": 34,
   "metadata": {},
   "outputs": [
    {
     "name": "stdout",
     "output_type": "stream",
     "text": [
      "0.0 7861.6225847375035\n"
     ]
    }
   ],
   "source": [
    "ca.reset_index()\n",
    "n = ca.loc[:,['Iraq','Pakistan','India','Afghanistan','Turkey']]\n",
    "# Now we want to understand whether the type of attack is depedent on the country(Top 5 in  South Asia)\n",
    "#For that we will be using Chi_Square Test \n",
    "teststats, pvalue, df, exp_freq = stats.chi2_contingency(n)\n",
    "print(pvalue,teststats)\n",
    "#Doubt: Check whether this has been applied correctly "
   ]
  },
  {
   "cell_type": "code",
   "execution_count": 35,
   "metadata": {},
   "outputs": [
    {
     "data": {
      "text/html": [
       "<div>\n",
       "<style scoped>\n",
       "    .dataframe tbody tr th:only-of-type {\n",
       "        vertical-align: middle;\n",
       "    }\n",
       "\n",
       "    .dataframe tbody tr th {\n",
       "        vertical-align: top;\n",
       "    }\n",
       "\n",
       "    .dataframe thead th {\n",
       "        text-align: right;\n",
       "    }\n",
       "</style>\n",
       "<table border=\"1\" class=\"dataframe\">\n",
       "  <thead>\n",
       "    <tr style=\"text-align: right;\">\n",
       "      <th>country_txt</th>\n",
       "      <th>Iraq</th>\n",
       "      <th>Pakistan</th>\n",
       "      <th>India</th>\n",
       "      <th>Afghanistan</th>\n",
       "      <th>Turkey</th>\n",
       "    </tr>\n",
       "    <tr>\n",
       "      <th>attacktype1_txt</th>\n",
       "      <th></th>\n",
       "      <th></th>\n",
       "      <th></th>\n",
       "      <th></th>\n",
       "      <th></th>\n",
       "    </tr>\n",
       "  </thead>\n",
       "  <tbody>\n",
       "    <tr>\n",
       "      <th>Armed Assault</th>\n",
       "      <td>3155</td>\n",
       "      <td>3859</td>\n",
       "      <td>3184</td>\n",
       "      <td>2877</td>\n",
       "      <td>1289</td>\n",
       "    </tr>\n",
       "    <tr>\n",
       "      <th>Assassination</th>\n",
       "      <td>1287</td>\n",
       "      <td>1406</td>\n",
       "      <td>1229</td>\n",
       "      <td>954</td>\n",
       "      <td>437</td>\n",
       "    </tr>\n",
       "    <tr>\n",
       "      <th>Bombing/Explosion</th>\n",
       "      <td>18286</td>\n",
       "      <td>7613</td>\n",
       "      <td>4825</td>\n",
       "      <td>6245</td>\n",
       "      <td>1957</td>\n",
       "    </tr>\n",
       "    <tr>\n",
       "      <th>Facility/Infrastructure Attack</th>\n",
       "      <td>154</td>\n",
       "      <td>300</td>\n",
       "      <td>996</td>\n",
       "      <td>355</td>\n",
       "      <td>279</td>\n",
       "    </tr>\n",
       "    <tr>\n",
       "      <th>Hijacking</th>\n",
       "      <td>13</td>\n",
       "      <td>19</td>\n",
       "      <td>43</td>\n",
       "      <td>16</td>\n",
       "      <td>13</td>\n",
       "    </tr>\n",
       "    <tr>\n",
       "      <th>Hostage Taking (Barricade Incident)</th>\n",
       "      <td>24</td>\n",
       "      <td>35</td>\n",
       "      <td>44</td>\n",
       "      <td>27</td>\n",
       "      <td>13</td>\n",
       "    </tr>\n",
       "    <tr>\n",
       "      <th>Hostage Taking (Kidnapping)</th>\n",
       "      <td>946</td>\n",
       "      <td>823</td>\n",
       "      <td>1184</td>\n",
       "      <td>1011</td>\n",
       "      <td>158</td>\n",
       "    </tr>\n",
       "    <tr>\n",
       "      <th>Unarmed Assault</th>\n",
       "      <td>6</td>\n",
       "      <td>77</td>\n",
       "      <td>143</td>\n",
       "      <td>73</td>\n",
       "      <td>10</td>\n",
       "    </tr>\n",
       "    <tr>\n",
       "      <th>Unknown</th>\n",
       "      <td>765</td>\n",
       "      <td>236</td>\n",
       "      <td>312</td>\n",
       "      <td>1173</td>\n",
       "      <td>136</td>\n",
       "    </tr>\n",
       "  </tbody>\n",
       "</table>\n",
       "</div>"
      ],
      "text/plain": [
       "country_txt                           Iraq  Pakistan  India  Afghanistan  \\\n",
       "attacktype1_txt                                                            \n",
       "Armed Assault                         3155      3859   3184         2877   \n",
       "Assassination                         1287      1406   1229          954   \n",
       "Bombing/Explosion                    18286      7613   4825         6245   \n",
       "Facility/Infrastructure Attack         154       300    996          355   \n",
       "Hijacking                               13        19     43           16   \n",
       "Hostage Taking (Barricade Incident)     24        35     44           27   \n",
       "Hostage Taking (Kidnapping)            946       823   1184         1011   \n",
       "Unarmed Assault                          6        77    143           73   \n",
       "Unknown                                765       236    312         1173   \n",
       "\n",
       "country_txt                          Turkey  \n",
       "attacktype1_txt                              \n",
       "Armed Assault                          1289  \n",
       "Assassination                           437  \n",
       "Bombing/Explosion                      1957  \n",
       "Facility/Infrastructure Attack          279  \n",
       "Hijacking                                13  \n",
       "Hostage Taking (Barricade Incident)      13  \n",
       "Hostage Taking (Kidnapping)             158  \n",
       "Unarmed Assault                          10  \n",
       "Unknown                                 136  "
      ]
     },
     "execution_count": 35,
     "metadata": {},
     "output_type": "execute_result"
    }
   ],
   "source": [
    "ca[['Iraq','Pakistan','India','Afghanistan','Turkey']]"
   ]
  },
  {
   "cell_type": "code",
   "execution_count": 36,
   "metadata": {},
   "outputs": [
    {
     "ename": "NameError",
     "evalue": "name 'ca1' is not defined",
     "output_type": "error",
     "traceback": [
      "\u001b[0;31m---------------------------------------------------------------------------\u001b[0m",
      "\u001b[0;31mNameError\u001b[0m                                 Traceback (most recent call last)",
      "\u001b[0;32m<ipython-input-36-9d09be4133b8>\u001b[0m in \u001b[0;36m<module>\u001b[0;34m\u001b[0m\n\u001b[1;32m      4\u001b[0m         \u001b[0;32mfor\u001b[0m \u001b[0mz\u001b[0m \u001b[0;32min\u001b[0m \u001b[0mca\u001b[0m\u001b[0;34m.\u001b[0m\u001b[0mindex\u001b[0m\u001b[0;34m:\u001b[0m\u001b[0;34m\u001b[0m\u001b[0;34m\u001b[0m\u001b[0m\n\u001b[1;32m      5\u001b[0m             \u001b[0;32mif\u001b[0m \u001b[0mi\u001b[0m\u001b[0;34m==\u001b[0m\u001b[0mj\u001b[0m\u001b[0;34m:\u001b[0m\u001b[0;34m\u001b[0m\u001b[0;34m\u001b[0m\u001b[0m\n\u001b[0;32m----> 6\u001b[0;31m                 \u001b[0mca\u001b[0m\u001b[0;34m.\u001b[0m\u001b[0mloc\u001b[0m\u001b[0;34m[\u001b[0m\u001b[0;34m'z'\u001b[0m\u001b[0;34m,\u001b[0m\u001b[0;34m'i'\u001b[0m\u001b[0;34m]\u001b[0m\u001b[0;34m=\u001b[0m\u001b[0mca1\u001b[0m\u001b[0;34m.\u001b[0m\u001b[0mloc\u001b[0m\u001b[0;34m[\u001b[0m\u001b[0;34m'z'\u001b[0m\u001b[0;34m,\u001b[0m\u001b[0;34m'i'\u001b[0m\u001b[0;34m]\u001b[0m\u001b[0;34m\u001b[0m\u001b[0;34m\u001b[0m\u001b[0m\n\u001b[0m\u001b[1;32m      7\u001b[0m \u001b[0mca1\u001b[0m\u001b[0;34m\u001b[0m\u001b[0;34m\u001b[0m\u001b[0m\n",
      "\u001b[0;31mNameError\u001b[0m: name 'ca1' is not defined"
     ]
    }
   ],
   "source": [
    "ca2= ['Iraq','Pakistan','India','Afghanistan','Turkey']\n",
    "for i in ca.columns:\n",
    "    for j in ca2:\n",
    "        for z in ca.index:\n",
    "            if i==j:\n",
    "                ca.loc['z','i']=ca1.loc['z','i']\n",
    "ca1"
   ]
  },
  {
   "cell_type": "code",
   "execution_count": null,
   "metadata": {},
   "outputs": [],
   "source": [
    "for z in ca.index:\n",
    "    print(z)"
   ]
  },
  {
   "cell_type": "code",
   "execution_count": null,
   "metadata": {},
   "outputs": [],
   "source": [
    "ca1= pd.DataFrame({'Iraq':[np.nan,np.nan,np.nan,np.nan,np.nan,np.nan,np.nan,np.nan,np.nan],'Pakistan':[np.nan,np.nan,np.nan,np.nan,np.nan,np.nan,np.nan,np.nan,np.nan],'India':[np.nan,np.nan,np.nan,np.nan,np.nan,np.nan,np.nan,np.nan,np.nan],'Afghanistan':[np.nan,np.nan,np.nan,np.nan,np.nan,np.nan,np.nan,np.nan,np.nan],'Turkey':[np.nan,np.nan,np.nan,np.nan,np.nan,np.nan,np.nan,np.nan,np.nan]},\n",
    "             index=['Armed Assault', 'Assassination', 'Bombing/Explosion',\n",
    "       'Facility/Infrastructure Attack', 'Hijacking',\n",
    "       'Hostage Taking (Barricade Incident)', 'Hostage Taking (Kidnapping)',\n",
    "       'Unarmed Assault', 'Unknown'])\n",
    "ca1"
   ]
  },
  {
   "cell_type": "code",
   "execution_count": null,
   "metadata": {},
   "outputs": [],
   "source": [
    "data['attacktype1_txt'].value_counts(normalize=True)\n",
    "#The highest number of attacks were of Bombing, folowed by Armed Assault.\n",
    "#Now"
   ]
  },
  {
   "cell_type": "code",
   "execution_count": null,
   "metadata": {},
   "outputs": [],
   "source": [
    "data[(data['region_txt']=='South Asia')|(data['region_txt']=='Middle East & North Africa')][['country_txt','attacktype1_txt']]"
   ]
  },
  {
   "cell_type": "code",
   "execution_count": null,
   "metadata": {},
   "outputs": [],
   "source": [
    "Action Items:\n",
    "# Explore plotly to improve visualizations \n",
    "#Heatmap between categorical, and heatmap between numerical\n",
    "#most number of attacks in which city?\n",
    "##Which countries have had which type of attacks? Possibilty of Chi-Square - data['targtype1_txt']\n",
    "#data['ransom'].value_counts() #Should the column be removed?\n",
    "#How should we treat the values?\n",
    "#Possibilty of a sunburst? Enter a country : "
   ]
  },
  {
   "cell_type": "code",
   "execution_count": null,
   "metadata": {},
   "outputs": [],
   "source": [
    "data.columns\n"
   ]
  },
  {
   "cell_type": "code",
   "execution_count": null,
   "metadata": {},
   "outputs": [],
   "source": [
    "data['specificity'].value_counts() #Should the column be removed?\n",
    "#Which countries have had which type of attacks? Possibilty of Chi-Square - data['targtype1_txt']"
   ]
  },
  {
   "cell_type": "code",
   "execution_count": null,
   "metadata": {},
   "outputs": [],
   "source": []
  }
 ],
 "metadata": {
  "kernelspec": {
   "display_name": "Python 3",
   "language": "python",
   "name": "python3"
  },
  "language_info": {
   "codemirror_mode": {
    "name": "ipython",
    "version": 3
   },
   "file_extension": ".py",
   "mimetype": "text/x-python",
   "name": "python",
   "nbconvert_exporter": "python",
   "pygments_lexer": "ipython3",
   "version": "3.7.6"
  }
 },
 "nbformat": 4,
 "nbformat_minor": 4
}
